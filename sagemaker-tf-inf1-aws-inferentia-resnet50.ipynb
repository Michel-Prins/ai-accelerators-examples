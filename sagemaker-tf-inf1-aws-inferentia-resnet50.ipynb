{
 "cells": [
  {
   "cell_type": "markdown",
   "metadata": {},
   "source": [
    "# Amazon SageMaker inference deployment to Inf1 with AWS Inferentia \n",
    "This example demonstrates Amazon SageMaker inference deployment using SageMaker SDK\n",
    "\n",
    "This example was tested on Amazon SageMaker Studio Notebook\n",
    "Run this notebook using the following Amazon SageMaker Studio conda environment:\n",
    "`TensorFlow CPU Optimized`"
   ]
  },
  {
   "cell_type": "code",
   "execution_count": null,
   "metadata": {},
   "outputs": [],
   "source": [
    "# !pip install --upgrade pip -q\n",
    "# !pip install --upgrade sagemaker -q"
   ]
  },
  {
   "cell_type": "code",
   "execution_count": null,
   "metadata": {},
   "outputs": [],
   "source": [
    "import tarfile\n",
    "import sagemaker\n",
    "import tensorflow as tf\n",
    "import tensorflow.keras as keras\n",
    "import shutil\n",
    "import os\n",
    "import time\n",
    "import tensorflow.compat.v1.keras as keras\n",
    "from tensorflow.keras.applications.resnet50 import ResNet50\n",
    "\n",
    "role = sagemaker.get_execution_role()\n",
    "sess = sagemaker.Session()\n",
    "region = sess.boto_region_name\n",
    "bucket = sess.default_bucket()\n",
    "print('sagemaker version: '+sagemaker.__version__)\n",
    "print('tensorflow version: '+tf.__version__)"
   ]
  },
  {
   "cell_type": "code",
   "execution_count": null,
   "metadata": {},
   "outputs": [],
   "source": [
    "# Export SavedModel\n",
    "saved_model_dir = 'resnet50_saved_model'\n",
    "shutil.rmtree(saved_model_dir, ignore_errors=True)\n",
    "\n",
    "keras.backend.set_learning_phase(0)\n",
    "model = ResNet50(weights='imagenet')\n",
    "tf.saved_model.simple_save(session = keras.backend.get_session(),\n",
    "                           export_dir = saved_model_dir,\n",
    "                           inputs = {'input_1:0': model.inputs[0]},\n",
    "                           outputs = {'probs/Softmax:0': model.outputs[0]})"
   ]
  },
  {
   "cell_type": "code",
   "execution_count": null,
   "metadata": {},
   "outputs": [],
   "source": [
    "shutil.rmtree('model.tar.gz', ignore_errors=True)\n",
    "!tar cvfz model.tar.gz -C resnet50_saved_model ."
   ]
  },
  {
   "cell_type": "code",
   "execution_count": null,
   "metadata": {},
   "outputs": [],
   "source": [
    "from sagemaker.tensorflow.model import TensorFlowModel, TensorFlowPredictor\n",
    "\n",
    "prefix = 'keras_inf1_models'\n",
    "s3_model_path = sess.upload_data(path='model.tar.gz', key_prefix=prefix)\n",
    "\n",
    "model = TensorFlowModel(model_data=s3_model_path, \n",
    "                        framework_version='1.15',\n",
    "                        role=role,\n",
    "                        predictor_cls = TensorFlowPredictor,\n",
    "                        sagemaker_session=sess)"
   ]
  },
  {
   "cell_type": "markdown",
   "metadata": {},
   "source": [
    "### Deploy to Inf1 instance with AWS Inferentia"
   ]
  },
  {
   "cell_type": "code",
   "execution_count": null,
   "metadata": {},
   "outputs": [],
   "source": [
    "inf1_model = model.compile(target_instance_family='ml_inf1', \n",
    "                           input_shape={'input_1':[1, 224, 224, 3]},\n",
    "                           output_path = f's3://{bucket}/{prefix}/compiled_model/',\n",
    "                           role = role,\n",
    "                           framework='tensorflow', \n",
    "                           framework_version='1.15.0',\n",
    "                           job_name = f'inf1-{time.strftime(\"%Y-%m-%d-%H-%M-%S\", time.gmtime())}')"
   ]
  },
  {
   "cell_type": "code",
   "execution_count": null,
   "metadata": {},
   "outputs": [],
   "source": [
    "predictor_inf1 = inf1_model.deploy(initial_instance_count = 1,\n",
    "                            instance_type = 'ml.inf1.xlarge')"
   ]
  },
  {
   "cell_type": "markdown",
   "metadata": {},
   "source": [
    "### Test endpoint"
   ]
  },
  {
   "cell_type": "code",
   "execution_count": null,
   "metadata": {},
   "outputs": [],
   "source": [
    "## If you have an existing endpoint, create a predictor using the endpoint name\n",
    "\n",
    "# from sagemaker.tensorflow.model import TensorFlowPredictor\n",
    "# predictor = TensorFlowPredictor('ENDPOINT_NAME',\n",
    "#                                sagemaker_session=sess)"
   ]
  },
  {
   "cell_type": "code",
   "execution_count": null,
   "metadata": {},
   "outputs": [],
   "source": [
    "def image_preprocess(img, reps=1):\n",
    "    img = np.asarray(img.resize((224, 224)))\n",
    "    img = np.stack([img]*reps)\n",
    "    img = tf.keras.applications.resnet50.preprocess_input(img)\n",
    "    return img"
   ]
  },
  {
   "cell_type": "code",
   "execution_count": null,
   "metadata": {},
   "outputs": [],
   "source": [
    "from PIL import Image \n",
    "import numpy as np\n",
    "import json\n",
    "\n",
    "img= Image.open('kitten.jpg')\n",
    "img = image_preprocess(img, 5)"
   ]
  },
  {
   "cell_type": "markdown",
   "metadata": {},
   "source": [
    "### Invoke Inf1 Instance with AWS Inferentia endpoint"
   ]
  },
  {
   "cell_type": "code",
   "execution_count": null,
   "metadata": {},
   "outputs": [],
   "source": [
    "response = predictor_inf1.predict(data=img)\n",
    "probs = np.array(response['predictions'][0])\n",
    "tf.keras.applications.resnet.decode_predictions(np.expand_dims(probs, axis=0), top=5)"
   ]
  },
  {
   "cell_type": "code",
   "execution_count": null,
   "metadata": {},
   "outputs": [],
   "source": []
  }
 ],
 "metadata": {
  "instance_type": "ml.t3.medium",
  "kernelspec": {
   "display_name": "Python 3 (TensorFlow CPU Optimized)",
   "language": "python",
   "name": "python3__SAGEMAKER_INTERNAL__arn:aws:sagemaker:us-west-2:236514542706:image/tensorflow-1.15-cpu-py36"
  },
  "language_info": {
   "codemirror_mode": {
    "name": "ipython",
    "version": 3
   },
   "file_extension": ".py",
   "mimetype": "text/x-python",
   "name": "python",
   "nbconvert_exporter": "python",
   "pygments_lexer": "ipython3",
   "version": "3.6.9"
  }
 },
 "nbformat": 4,
 "nbformat_minor": 4
}
