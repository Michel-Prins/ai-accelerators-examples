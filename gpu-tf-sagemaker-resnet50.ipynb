{
 "cells": [
  {
   "cell_type": "code",
   "execution_count": 1,
   "metadata": {},
   "outputs": [],
   "source": [
    "# !pip install --upgrade pip -q\n",
    "# !pip install --upgrade sagemaker -q"
   ]
  },
  {
   "cell_type": "code",
   "execution_count": 7,
   "metadata": {},
   "outputs": [
    {
     "name": "stdout",
     "output_type": "stream",
     "text": [
      "sagemaker version: 2.15.1\n",
      "tensorflow version: 2.1.0\n"
     ]
    }
   ],
   "source": [
    "import tarfile\n",
    "import sagemaker\n",
    "import tensorflow as tf\n",
    "import tensorflow.keras as keras\n",
    "import shutil\n",
    "import os\n",
    "import time\n",
    "from tensorflow.keras.applications.resnet50 import ResNet50\n",
    "\n",
    "role = sagemaker.get_execution_role()\n",
    "sess = sagemaker.Session()\n",
    "region = sess.boto_region_name\n",
    "bucket = sess.default_bucket()\n",
    "print('sagemaker version: '+sagemaker.__version__)\n",
    "print('tensorflow version: '+tf.__version__)"
   ]
  },
  {
   "cell_type": "code",
   "execution_count": 11,
   "metadata": {},
   "outputs": [
    {
     "name": "stdout",
     "output_type": "stream",
     "text": [
      "INFO:tensorflow:Assets written to: resnet50_saved_model/1/assets\n"
     ]
    }
   ],
   "source": [
    "def load_save_resnet50_model(model_path):\n",
    "    model = ResNet50(weights='imagenet')\n",
    "    shutil.rmtree(model_path, ignore_errors=True)\n",
    "    model.save(model_path, include_optimizer=False, save_format='tf')\n",
    "\n",
    "saved_model_dir = 'resnet50_saved_model' \n",
    "model_ver = '1'\n",
    "model_path = os.path.join(saved_model_dir, model_ver)\n",
    "\n",
    "load_save_resnet50_model(model_path)"
   ]
  },
  {
   "cell_type": "code",
   "execution_count": 14,
   "metadata": {},
   "outputs": [
    {
     "name": "stdout",
     "output_type": "stream",
     "text": [
      "./\n",
      "./1/\n",
      "./1/variables/\n",
      "./1/variables/variables.data-00000-of-00001\n",
      "./1/variables/variables.index\n",
      "./1/saved_model.pb\n",
      "./1/assets/\n"
     ]
    }
   ],
   "source": [
    "shutil.rmtree('model.tar.gz', ignore_errors=True)\n",
    "!tar cvfz model.tar.gz -C resnet50_saved_model ."
   ]
  },
  {
   "cell_type": "code",
   "execution_count": 16,
   "metadata": {},
   "outputs": [
    {
     "name": "stdout",
     "output_type": "stream",
     "text": [
      "s3://sagemaker-us-west-2-453691756499/keras_models/model.tar.gz\n"
     ]
    }
   ],
   "source": [
    "from sagemaker.tensorflow.model import TensorFlowModel, TensorFlowPredictor\n",
    "\n",
    "prefix = 'keras_models'\n",
    "s3_model_path = sess.upload_data(path='model.tar.gz', key_prefix=prefix)\n",
    "print(s3_model_path)\n",
    "\n",
    "model = TensorFlowModel(model_data=s3_model_path, \n",
    "                        framework_version='1.15',\n",
    "                        role=role,\n",
    "                        predictor_cls = TensorFlowPredictor,\n",
    "                        sagemaker_session=sess)"
   ]
  },
  {
   "cell_type": "markdown",
   "metadata": {},
   "source": [
    "### Deploy to GPU instance"
   ]
  },
  {
   "cell_type": "code",
   "execution_count": 17,
   "metadata": {},
   "outputs": [
    {
     "name": "stderr",
     "output_type": "stream",
     "text": [
      "update_endpoint is a no-op in sagemaker>=2.\n",
      "See: https://sagemaker.readthedocs.io/en/stable/v2.html for details.\n"
     ]
    },
    {
     "name": "stdout",
     "output_type": "stream",
     "text": [
      "-------------!"
     ]
    }
   ],
   "source": [
    "predictor = model.deploy(initial_instance_count=1, \n",
    "                         instance_type='ml.g4dn.xlarge')"
   ]
  },
  {
   "cell_type": "code",
   "execution_count": 18,
   "metadata": {},
   "outputs": [],
   "source": [
    "## If you have an existing endpoint, create a predictor using the endpoint name\n",
    "\n",
    "# from sagemaker.tensorflow.model import TensorFlowPredictor\n",
    "# predictor = TensorFlowPredictor('ENDPOINT_NAME',\n",
    "#                                sagemaker_session=sess)"
   ]
  },
  {
   "cell_type": "code",
   "execution_count": 19,
   "metadata": {},
   "outputs": [],
   "source": [
    "def image_preprocess(img, reps=1):\n",
    "    img = np.asarray(img.resize((224, 224)))\n",
    "    img = np.stack([img]*reps)\n",
    "    img = tf.keras.applications.resnet50.preprocess_input(img)\n",
    "    return img"
   ]
  },
  {
   "cell_type": "code",
   "execution_count": 21,
   "metadata": {},
   "outputs": [
    {
     "name": "stdout",
     "output_type": "stream",
     "text": [
      "tiger_cat\n",
      "tabby\n",
      "Egyptian_cat\n",
      "lynx\n",
      "leopard\n"
     ]
    }
   ],
   "source": [
    "from PIL import Image \n",
    "import numpy as np\n",
    "import json\n",
    "\n",
    "img= Image.open('kitten.jpg')\n",
    "img = image_preprocess(img, 5)\n",
    "response = predictor.predict(data=img)\n",
    "pred = np.array(response['predictions'][0]).argsort()[-5:][::-1] \n",
    "\n",
    "with open('imagenet_class_index.json', 'r') as f:\n",
    "    labels = json.load(f)\n",
    "    \n",
    "for l in pred:\n",
    "    print(labels[str(l)][1])"
   ]
  },
  {
   "cell_type": "code",
   "execution_count": null,
   "metadata": {},
   "outputs": [],
   "source": []
  }
 ],
 "metadata": {
  "instance_type": "ml.t3.medium",
  "kernelspec": {
   "display_name": "Python 3 (TensorFlow 2 CPU Optimized)",
   "language": "python",
   "name": "python3__SAGEMAKER_INTERNAL__arn:aws:sagemaker:us-west-2:236514542706:image/tensorflow-2.1-cpu-py36"
  },
  "language_info": {
   "codemirror_mode": {
    "name": "ipython",
    "version": 3
   },
   "file_extension": ".py",
   "mimetype": "text/x-python",
   "name": "python",
   "nbconvert_exporter": "python",
   "pygments_lexer": "ipython3",
   "version": "3.6.9"
  }
 },
 "nbformat": 4,
 "nbformat_minor": 4
}
